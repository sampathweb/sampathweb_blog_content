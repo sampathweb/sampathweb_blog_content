{
 "metadata": {
  "name": ""
 },
 "nbformat": 3,
 "nbformat_minor": 0,
 "worksheets": [
  {
   "cells": [
    {
     "cell_type": "markdown",
     "metadata": {},
     "source": [
      "Problem 1:\n",
      "----------\n",
      "If we list all the natural numbers below 10 that are multiples of 3 or 5, we get 3, 5, 6 and 9. The sum of these multiples is 23.  \n",
      "\n",
      "Find the sum of all the multiples of 3 or 5 below 1000."
     ]
    },
    {
     "cell_type": "markdown",
     "metadata": {},
     "source": [
      "Method 1:\n",
      "---------\n",
      "\n",
      "Keep it simple and just get the task done using a specific function that sums the numbers that are multiples of 3 or 5"
     ]
    },
    {
     "cell_type": "code",
     "collapsed": false,
     "input": [
      "def sum_sequence_multiples_3_or_5(max_numb):\n",
      "    '''Returns the sum of all numbers under max_numb that are multiples of 3 or 5'''\n",
      "    sum_numb = 0\n",
      "    # I am using Python 3 where range is the old xrange.  Use xrange if you use python 2.x\n",
      "    for numb in range(max_numb):\n",
      "        if numb%3 == 0 or numb%5 == 0:\n",
      "            sum_numb += numb\n",
      "    return sum_numb\n",
      "\n",
      "# Compute the sum of all numbers that are multiples of 3 or 5 under 1000 and check with Euler if you got it right\n",
      "print('Sum of all numbers that are multiple of 3 or 5 under 1000: ', sum_sequence_multiples_3_or_5(1000))"
     ],
     "language": "python",
     "metadata": {},
     "outputs": [
      {
       "output_type": "stream",
       "stream": "stdout",
       "text": [
        "Sum of all numbers that are multiple of 3 or 5 under 1000:  233168\n"
       ]
      }
     ],
     "prompt_number": 1
    },
    {
     "cell_type": "markdown",
     "metadata": {},
     "source": [
      "This answer is correct, and can use the function sum_sequence_3_or_5 to get sum of 3 or 5 for any number.  Let's try to change this function to get multiples of any numbers and not just for 3 or 5.\n",
      "\n",
      "Method 2:\n",
      "---------\n",
      "\n",
      "Let's modify the function to sum the sequence based on checking the multiples of any set of numbers and not just 3 or 5"
     ]
    },
    {
     "cell_type": "code",
     "collapsed": false,
     "input": [
      "def sum_sequence_multiples_any(max_numb, multiples_of):\n",
      "    '''Return the sum of all numbers under max_numb that are multiples of any number in multiples_of'''\n",
      "    sum_numb = 0\n",
      "    for numb in range(max_numb):\n",
      "        for value in multiples_of:\n",
      "            if value != 0 and numb%value == 0:\n",
      "                sum_numb += numb\n",
      "                break # out of the for loop as the numb is alreay confirmed to be a multiple of one of the numbers\n",
      "    return sum_numb\n",
      "\n",
      "# Compute the sum of all numbers that are multiples of 3 or 5 under 1000 and check with Euler if you got it right\n",
      "print('Sum of all numbers that are multiple of 3 or 5 under 1000: ', sum_sequence_multiples_any(1000, [3, 5]))"
     ],
     "language": "python",
     "metadata": {},
     "outputs": [
      {
       "output_type": "stream",
       "stream": "stdout",
       "text": [
        "Sum of all numbers that are multiple of 3 or 5 under 1000:  233168\n"
       ]
      }
     ],
     "prompt_number": 2
    },
    {
     "cell_type": "markdown",
     "metadata": {},
     "source": [
      "The above function works well, but is not pythonic.  We have only one statement that adds the numbers to the result. We can write it more concisely as follows using a list comprehension.  It's concise and is more readable once you get used to it."
     ]
    },
    {
     "cell_type": "code",
     "collapsed": false,
     "input": [
      "def sum_sequence_multiples_any(max_numb, multiples_of):\n",
      "    '''Return the sum of all numbers under max_numb that are multiples of any number in multiples_of'''\n",
      "    # compute the list of numbers that are multiples of any of the numbers\n",
      "    # Remove duplicates as some numbers could be multiples of several in the list and we want to count them only once\n",
      "    sum_numb = sum(set([numb for numb in range(max_numb) for value in multiples_of if value != 0 and numb%value == 0]))\n",
      "    return sum_numb\n",
      "\n",
      "# Compute the sum of all numbers that are multiples of 3 or 5 under 1000 and check with Euler if you got it right\n",
      "print('Sum of all numbers that are multiple of 3 or 5 under 1000: ', sum_sequence_multiples_any(1000, [3, 5]))"
     ],
     "language": "python",
     "metadata": {},
     "outputs": [
      {
       "output_type": "stream",
       "stream": "stdout",
       "text": [
        "Sum of all numbers that are multiple of 3 or 5 under 1000:  233168\n"
       ]
      }
     ],
     "prompt_number": 3
    },
    {
     "cell_type": "markdown",
     "metadata": {},
     "source": [
      "Method 3:\n",
      "---------\n",
      "\n",
      "Now, it gets interesting.  We can abstract away the process of checking if the number is a multiple of into it's own function and just use the sum_sequence to sum all the numbers that pass a test.\n",
      "\n",
      "I have done that here using the partial method in functools.  This function can be applied to get sum of sequence upto max_numb that passes the is_valid function."
     ]
    },
    {
     "cell_type": "code",
     "collapsed": false,
     "input": [
      "from functools import partial\n",
      "\n",
      "def is_multiple_of_any(numb_set, numb):\n",
      "    '''Returns True if the numb is multiple of any number in numb_set'''\n",
      "    for value in numb_set:\n",
      "        if value != 0 and numb%value == 0:\n",
      "            return True\n",
      "    return False\n",
      "\n",
      "def sum_sequence(max_numb, is_valid):\n",
      "    '''Returns the sum of all numbers under max_numb that pass the is_valid function'''\n",
      "    sum_numb = sum(set([numb for numb in range(max_numb) if is_valid(numb=numb)]))\n",
      "    return sum_numb\n",
      "\n",
      "# Create a new function is_multiple of 3 and 5 based on the generic multiple check function\n",
      "is_multiple_of_3_and_5 = partial(is_multiple_of_any, numb_set = [3, 5])\n",
      "\n",
      "# Compute the sum of all numbers that are multiples of 3 or 5 under 1000 and check with Euler if you got it right\n",
      "print('Sum of all numbers that are multiple of 3 or 5 under 1000: ', sum_sequence(1000, is_multiple_of_3_and_5))\n"
     ],
     "language": "python",
     "metadata": {},
     "outputs": [
      {
       "output_type": "stream",
       "stream": "stdout",
       "text": [
        "Sum of all numbers that are multiple of 3 or 5 under 1000:  233168\n"
       ]
      }
     ],
     "prompt_number": 4
    },
    {
     "cell_type": "markdown",
     "metadata": {},
     "source": [
      "Finally, We can abstract this a little more by changing sum_sequence to apply any function on the sequence and taking that as an argumnent.  So, sum_sequence becomes :"
     ]
    },
    {
     "cell_type": "code",
     "collapsed": false,
     "input": [
      "def apply_sequence(apply_fn, max_numb, is_valid):\n",
      "    '''Returns the sum of all numbers under max_numb that pass the is_valid function'''\n",
      "    result = apply_fn(set([numb for numb in range(max_numb) if is_valid(numb=numb)]))\n",
      "    return result\n",
      "\n",
      "# Create a new function is_multiple of 3 and 5 based on the generic multiple check function\n",
      "is_multiple_of_3_and_5 = partial(is_multiple_of_any, numb_set = [3, 5])\n",
      "\n",
      "# Compute the sum of all numbers that are multiples of 3 or 5 under 1000 and check with Euler if you got it right\n",
      "print('Sum of all numbers that are multiple of 3 or 5 under 1000: ', apply_sequence(sum, 1000, is_multiple_of_3_and_5))\n"
     ],
     "language": "python",
     "metadata": {},
     "outputs": [
      {
       "output_type": "stream",
       "stream": "stdout",
       "text": [
        "Sum of all numbers that are multiple of 3 or 5 under 1000:  233168\n"
       ]
      }
     ],
     "prompt_number": 5
    }
   ],
   "metadata": {}
  }
 ]
}