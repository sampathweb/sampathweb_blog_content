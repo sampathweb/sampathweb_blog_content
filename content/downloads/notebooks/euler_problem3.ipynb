{
 "metadata": {
  "name": ""
 },
 "nbformat": 3,
 "nbformat_minor": 0,
 "worksheets": [
  {
   "cells": [
    {
     "cell_type": "markdown",
     "metadata": {},
     "source": [
      "Problem 3 - Largest prime factor\n",
      "--------------------\n",
      "\n",
      "The prime factors of 13195 are 5, 7, 13 and 29.\n",
      "\n",
      "What is the largest prime factor of the number 600851475143 ?"
     ]
    },
    {
     "cell_type": "code",
     "collapsed": false,
     "input": [
      "def prime_factors(numb, factors=[]):\n",
      "    for factor in range(1,numb):\n",
      "        if numb%factor == 0:\n",
      "            factors.append(factor)\n",
      "    # Check if the factor is a prime factor\n",
      "    primes = []\n",
      "    for factor in factors:\n",
      "        is_prime = True\n",
      "        for value in range(2, factor):\n",
      "            if factor%value == 0:\n",
      "                is_prime = False\n",
      "                break\n",
      "        if is_prime:\n",
      "            primes.append(factor)\n",
      "    return primes"
     ],
     "language": "python",
     "metadata": {},
     "outputs": [],
     "prompt_number": 72
    },
    {
     "cell_type": "code",
     "collapsed": false,
     "input": [
      "prime_factors(13195)"
     ],
     "language": "python",
     "metadata": {},
     "outputs": [
      {
       "metadata": {},
       "output_type": "pyout",
       "prompt_number": 73,
       "text": [
        "[1, 5, 7, 13, 29]"
       ]
      }
     ],
     "prompt_number": 73
    },
    {
     "cell_type": "code",
     "collapsed": false,
     "input": [
      "# This does not work \n",
      "#prime_factors(600851475143)"
     ],
     "language": "python",
     "metadata": {},
     "outputs": [],
     "prompt_number": 74
    },
    {
     "cell_type": "code",
     "collapsed": false,
     "input": [
      "def get_prime_numbers(max_numb):\n",
      "    prime_numbers = [2, 3]\n",
      "    # We know that no even number can be prime.\n",
      "    for numb in range(5, max_numb, 2):\n",
      "        is_prime = True\n",
      "        for prime in prime_numbers:\n",
      "            if numb%prime == 0:\n",
      "                is_prime = False\n",
      "                break\n",
      "        if is_prime:\n",
      "            prime_numbers.append(numb)\n",
      "    return prime_numbers           "
     ],
     "language": "python",
     "metadata": {},
     "outputs": [],
     "prompt_number": 75
    },
    {
     "cell_type": "code",
     "collapsed": false,
     "input": [
      "# Let's get all the prime numbers under 10,000\n",
      "prime_numbers = get_prime_numbers(10000)"
     ],
     "language": "python",
     "metadata": {},
     "outputs": [],
     "prompt_number": 76
    },
    {
     "cell_type": "code",
     "collapsed": false,
     "input": [
      "# Find Factors of a number given the prime numbers and get the reminder\n",
      "def find_factors(numb, prime_numbers):\n",
      "    reminder = numb\n",
      "    factors = []\n",
      "    for prime in prime_numbers:\n",
      "        if reminder%prime == 0:\n",
      "            factors.append(prime)\n",
      "            reminder = reminder // prime\n",
      "    return reminder, factors"
     ],
     "language": "python",
     "metadata": {},
     "outputs": [],
     "prompt_number": 77
    },
    {
     "cell_type": "code",
     "collapsed": false,
     "input": [
      "find_factors(600851475143, prime_numbers)"
     ],
     "language": "python",
     "metadata": {},
     "outputs": [
      {
       "metadata": {},
       "output_type": "pyout",
       "prompt_number": 78,
       "text": [
        "(1, [71, 839, 1471, 6857])"
       ]
      }
     ],
     "prompt_number": 78
    },
    {
     "cell_type": "markdown",
     "metadata": {},
     "source": [
      "Answer - Probelem 3\n",
      "-------------------\n",
      "\n",
      "- Max Prime number Factor for 600851475143 is 6857."
     ]
    },
    {
     "cell_type": "markdown",
     "metadata": {},
     "source": [
      "Euler Prolem 4: Largest palindrome product\n",
      "--------------\n",
      "\n",
      "A palindromic number reads the same both ways. The largest palindrome made from the product of two 2-digit numbers is 9009 = 91 \u00d7 99.\n",
      "\n",
      "Find the largest palindrome made from the product of two 3-digit numbers."
     ]
    },
    {
     "cell_type": "code",
     "collapsed": false,
     "input": [
      "# Smallest numbers:\n",
      "print('Min value: ', 100*100)\n",
      "print('Max Value: ', 999*999)"
     ],
     "language": "python",
     "metadata": {},
     "outputs": [
      {
       "output_type": "stream",
       "stream": "stdout",
       "text": [
        "Min value:  10000\n",
        "Max Value:  998001\n"
       ]
      }
     ],
     "prompt_number": 21
    },
    {
     "cell_type": "code",
     "collapsed": false,
     "input": [
      "def get_palindromes(min_numb, max_numb):\n",
      "    palindromes = []\n",
      "    for numb in range(max_numb, min_numb, -1):\n",
      "        numb_s = str(numb)\n",
      "        numb_len = len(numb_s)\n",
      "        is_palindrome = True\n",
      "        for ix in range(numb_len//2):\n",
      "            if numb_s[ix] != numb_s[numb_len-ix-1]:\n",
      "                is_palindrome = False\n",
      "                break\n",
      "        if is_palindrome:\n",
      "            palindromes.append(numb)\n",
      "    return palindromes"
     ],
     "language": "python",
     "metadata": {},
     "outputs": [],
     "prompt_number": 22
    },
    {
     "cell_type": "code",
     "collapsed": false,
     "input": [
      "palindrome_numbers = get_palindromes(10000, 998001)"
     ],
     "language": "python",
     "metadata": {},
     "outputs": [],
     "prompt_number": 23
    },
    {
     "cell_type": "code",
     "collapsed": false,
     "input": [
      "len(palindrome_numbers)"
     ],
     "language": "python",
     "metadata": {},
     "outputs": [
      {
       "metadata": {},
       "output_type": "pyout",
       "prompt_number": 24,
       "text": [
        "1798"
       ]
      }
     ],
     "prompt_number": 24
    },
    {
     "cell_type": "code",
     "collapsed": false,
     "input": [
      "palindrome_numbers[0:10]"
     ],
     "language": "python",
     "metadata": {},
     "outputs": [
      {
       "metadata": {},
       "output_type": "pyout",
       "prompt_number": 25,
       "text": [
        "[997799,\n",
        " 996699,\n",
        " 995599,\n",
        " 994499,\n",
        " 993399,\n",
        " 992299,\n",
        " 991199,\n",
        " 990099,\n",
        " 989989,\n",
        " 988889]"
       ]
      }
     ],
     "prompt_number": 25
    },
    {
     "cell_type": "code",
     "collapsed": false,
     "input": [
      "factors = [numb for numb in range(100, 1000)]"
     ],
     "language": "python",
     "metadata": {},
     "outputs": [],
     "prompt_number": 26
    },
    {
     "cell_type": "code",
     "collapsed": false,
     "input": [
      "# Find Factors of a number given the prime numbers and get the reminder\n",
      "def find_max_three_digit_factors(all_numbers, all_factors):\n",
      "    for numb in all_numbers:\n",
      "        for factor in factors:\n",
      "            if numb%factor == 0 and len(str(numb//factor)) == 3:\n",
      "                return factor, numb // factor, numb\n",
      "    return None"
     ],
     "language": "python",
     "metadata": {},
     "outputs": [],
     "prompt_number": 31
    },
    {
     "cell_type": "code",
     "collapsed": false,
     "input": [
      "find_max_three_digit_factors(palindrome_numbers, factors)"
     ],
     "language": "python",
     "metadata": {},
     "outputs": [
      {
       "metadata": {},
       "output_type": "pyout",
       "prompt_number": 32,
       "text": [
        "(913, 993, 906609)"
       ]
      }
     ],
     "prompt_number": 32
    },
    {
     "cell_type": "markdown",
     "metadata": {},
     "source": [
      "Problem 5 - Smallest multiple\n",
      "-------\n",
      "\n",
      "2520 is the smallest number that can be divided by each of the numbers from 1 to 10 without any remainder.\n",
      "\n",
      "What is the smallest positive number that is evenly divisible by all of the numbers from 1 to 20?"
     ]
    },
    {
     "cell_type": "code",
     "collapsed": false,
     "input": [
      "def find_divisbiles(all_ranges):\n",
      "    max_numb = 1\n",
      "    for numb in all_ranges:\n",
      "        max_numb *= numb\n",
      "    return max_numb"
     ],
     "language": "python",
     "metadata": {},
     "outputs": [],
     "prompt_number": 37
    },
    {
     "cell_type": "code",
     "collapsed": false,
     "input": [
      "all_ranges = [numb for numb in range(1,21)]"
     ],
     "language": "python",
     "metadata": {},
     "outputs": [],
     "prompt_number": 38
    },
    {
     "cell_type": "code",
     "collapsed": false,
     "input": [
      "find_divisbiles(all_ranges)"
     ],
     "language": "python",
     "metadata": {},
     "outputs": [
      {
       "metadata": {},
       "output_type": "pyout",
       "prompt_number": 39,
       "text": [
        "2432902008176640000"
       ]
      }
     ],
     "prompt_number": 39
    },
    {
     "cell_type": "code",
     "collapsed": false,
     "input": [
      "def get_max_divisible(numb, divisor):\n",
      "    while True:\n",
      "        if numb % 20 == 0:\n",
      "            numb = numb // 20\n",
      "        else:\n",
      "            return numb"
     ],
     "language": "python",
     "metadata": {},
     "outputs": [],
     "prompt_number": 41
    },
    {
     "cell_type": "code",
     "collapsed": false,
     "input": [
      "get_max_divisible(2432902008176640000, 20)"
     ],
     "language": "python",
     "metadata": {},
     "outputs": [
      {
       "metadata": {},
       "output_type": "pyout",
       "prompt_number": 42,
       "text": [
        "15205637551104"
       ]
      }
     ],
     "prompt_number": 42
    },
    {
     "cell_type": "code",
     "collapsed": false,
     "input": [],
     "language": "python",
     "metadata": {},
     "outputs": []
    }
   ],
   "metadata": {}
  }
 ]
}